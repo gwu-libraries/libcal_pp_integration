{
 "cells": [
  {
   "cell_type": "markdown",
   "metadata": {},
   "source": [
    "# Exploration of Passage Point API"
   ]
  },
  {
   "cell_type": "code",
   "execution_count": null,
   "metadata": {},
   "outputs": [],
   "source": [
    "import requests\n",
    "from datetime import datetime"
   ]
  },
  {
   "cell_type": "markdown",
   "metadata": {},
   "source": [
    "Add our API credentials for our instance. "
   ]
  },
  {
   "cell_type": "code",
   "execution_count": null,
   "metadata": {},
   "outputs": [],
   "source": [
    "username = ''\n",
    "password = '' \n",
    "instance = '' #PassagePoint server:port\n",
    "barcode = '' # e.g. 22222222222222"
   ]
  },
  {
   "cell_type": "code",
   "execution_count": null,
   "metadata": {},
   "outputs": [],
   "source": [
    "credentials_endpt = f'{instance}/pp/api/v2/auth/login'\n",
    "uniqueid_endpt = f'{instance}/pp/api/v2/person/byUniqueId'\n",
    "create_visitor_endpt = f'{instance}/pp/api/v2/person/createVisitor'\n",
    "create_prereg_endpt = f'{instance}/pp/api/v2/visit/createPreReg'\n",
    "get_destinations_endpt = f'{instance}/pp/api/v2/visit/getDestinations'"
   ]
  },
  {
   "cell_type": "code",
   "execution_count": null,
   "metadata": {},
   "outputs": [],
   "source": [
    "def create_cred_body(username: str, password: str):\n",
    "    '''Creates the body of a POST request for obtaining an access token, given a username and password.'''\n",
    "    return {'username': username,\n",
    "           'password': password}"
   ]
  },
  {
   "cell_type": "code",
   "execution_count": null,
   "metadata": {},
   "outputs": [],
   "source": [
    "def get_token(cred_body: dict):\n",
    "    '''Retrieves an access token from the PassagePoint login API, given a request body as specified.'''\n",
    "    try:\n",
    "        resp = requests.post(credentials_endpt, json=cred_body)\n",
    "        resp.raise_for_status()\n",
    "        token_data = resp.json()\n",
    "        if 'error' in token_data:\n",
    "            raise Exception(token_data)\n",
    "        return token_data[\"token\"]\n",
    "    except Exception as e:\n",
    "        print(e)\n",
    "        raise"
   ]
  },
  {
   "cell_type": "markdown",
   "metadata": {},
   "source": [
    "Example of obtaining a token for further calls. "
   ]
  },
  {
   "cell_type": "code",
   "execution_count": null,
   "metadata": {},
   "outputs": [],
   "source": [
    "cred_body = create_cred_body(username, password)\n",
    "token = get_token(cred_body)"
   ]
  },
  {
   "cell_type": "code",
   "execution_count": null,
   "metadata": {},
   "outputs": [],
   "source": [
    "token"
   ]
  },
  {
   "cell_type": "code",
   "execution_count": null,
   "metadata": {},
   "outputs": [],
   "source": [
    "def create_header(token: str):\n",
    "    '''Creates a header with the supplied token from the login API.'''\n",
    "    try:\n",
    "        return {'token': token, 'Content Type': 'application/json'}\n",
    "    except Exception as e:\n",
    "        print('Error', e)"
   ]
  },
  {
   "cell_type": "code",
   "execution_count": null,
   "metadata": {},
   "outputs": [],
   "source": [
    "def create_visitor(header: dict, visitor: dict):\n",
    "    '''Sends a POST request to create a new visitor using a uniqueId'''\n",
    "    params = {'category': 'Visitor',\n",
    "              'firstName': visitor['firstName'],\n",
    "              'lastName': visitor['lastName'],\n",
    "              'uniqueId': barcode} \n",
    "    try:\n",
    "        resp = requests.post(create_visitor_endpt, headers=header, params=params)\n",
    "        resp.raise_for_status()\n",
    "        visitor_data = resp.json()\n",
    "        if 'error' in visitor_data:\n",
    "            raise Exception(visitor_data)\n",
    "        return visitor_data\n",
    "    except Exception as e:\n",
    "        print('Error getting visitor.', e)\n",
    "        raise"
   ]
  },
  {
   "cell_type": "markdown",
   "metadata": {},
   "source": [
    "Create an example new visitor, providing their barcode in the request."
   ]
  },
  {
   "cell_type": "code",
   "execution_count": null,
   "metadata": {},
   "outputs": [],
   "source": [
    "header = create_header(token)\n",
    "example_visitor = {'firstName': 'Test4', 'lastName': 'Patron4', 'uniqueId': barcode}\n",
    "new_visitor = create_visitor(header, example_visitor)\n",
    "print(new_visitor)"
   ]
  },
  {
   "cell_type": "markdown",
   "metadata": {},
   "source": [
    "### Look up the same visitor by barcode number, using the uniqueId endpoint. \n",
    "\n",
    "Note that the PP API docs show the response as an array of users. If it is indeed possible that there are multiple users who match a uniqueId field, that is important to be aware of. "
   ]
  },
  {
   "cell_type": "code",
   "execution_count": null,
   "metadata": {},
   "outputs": [],
   "source": [
    "def get_visitor_bybarcode(header: dict, barcode: str):\n",
    "    '''Retrieves the visitor ID from PassagePoint for a provided barcode in the visitor's unique ID field.'''\n",
    "    try:\n",
    "        params = {'uniqueId': barcode}\n",
    "        resp = requests.get(uniqueid_endpt, headers=header, params=params)\n",
    "        resp.raise_for_status()\n",
    "        visitor_data = resp.json()\n",
    "        if (not visitor_data) or ('id' not in visitor_data[0]):\n",
    "            raise Exception(visitor_data)\n",
    "        if len(visitor_data) > 1: # TODO: consider what do when multiple users returned\n",
    "            raise Exception(visitor_data)\n",
    "        visitor_id = str(visitor_data[0]['id'])\n",
    "        return visitor_id\n",
    "    except Exception as e:\n",
    "        print('Error getting visitor.', e)\n",
    "        raise\n",
    "  "
   ]
  },
  {
   "cell_type": "code",
   "execution_count": null,
   "metadata": {},
   "outputs": [],
   "source": [
    "barcode = '22882063227958'"
   ]
  },
  {
   "cell_type": "code",
   "execution_count": null,
   "metadata": {},
   "outputs": [],
   "source": [
    "header = create_header(token)\n",
    "visitor = get_visitor_bybarcode(header, barcode)\n",
    "visitor"
   ]
  },
  {
   "cell_type": "code",
   "execution_count": null,
   "metadata": {},
   "outputs": [],
   "source": [
    "def create_prereg(header: dict, booking: dict, visitor: str):\n",
    "    '''Creates a Pre-Registration with the visitor ID and LibCal data.\n",
    "    Requires a booking dict with a visitorId as int, startTime and endTime\n",
    "    '''\n",
    "    try:\n",
    "        format_str = '%Y-%m-%dT%H:%M:%S%z'\n",
    "        booking[\"startTime\"] = str(int(datetime.strptime(booking['startTime'], format_str).timestamp()))\n",
    "        booking[\"endTime\"] = str(int(datetime.strptime(booking['endTime'], format_str).timestamp()))\n",
    "        booking[\"visitorId\"] = visitor\n",
    "        booking[\"destination\"] = \"LibCal\" # needs to exist in PP\n",
    "        resp = requests.post(create_prereg_endpt, headers=header, json=booking)\n",
    "        resp.raise_for_status()\n",
    "        prereg_data = resp.json()\n",
    "        if 'error' in prereg_data:\n",
    "            raise Exception(prereg_data)\n",
    "        return prereg_data\n",
    "    except Exception as e:\n",
    "        print('Error creating pre-registration.', e)\n",
    "        raise"
   ]
  },
  {
   "cell_type": "code",
   "execution_count": null,
   "metadata": {},
   "outputs": [],
   "source": [
    "test_booking = {\"startTime\": \"2020-08-14T20:05:00-04:00\", \"endTime\": \"2020-08-14T22:05:00-04:00\"}\n",
    "header = create_header(token)\n",
    "reg = create_prereg(header, test_booking, visitor)\n",
    "print(reg)"
   ]
  },
  {
   "cell_type": "code",
   "execution_count": null,
   "metadata": {},
   "outputs": [],
   "source": [
    "def get_destinations(header: dict):\n",
    "    '''Retrieves the destinations from PassagePoint and returns as dict'''\n",
    "    try:\n",
    "        resp = requests.get(get_destinations_endpt, headers=header)\n",
    "        resp.raise_for_status()\n",
    "        destinations = resp.json()\n",
    "        return destinations\n",
    "    except Exception as e:\n",
    "        print('Error getting visitor.', e)\n",
    "        raise\n",
    "  "
   ]
  },
  {
   "cell_type": "code",
   "execution_count": null,
   "metadata": {},
   "outputs": [],
   "source": [
    "d = get_destinations(header)\n",
    "print(d)"
   ]
  },
  {
   "cell_type": "code",
   "execution_count": null,
   "metadata": {},
   "outputs": [],
   "source": [
    "# Testing Visitor record"
   ]
  },
  {
   "cell_type": "code",
   "execution_count": null,
   "metadata": {},
   "outputs": [],
   "source": [
    "visitor_id = '137505764541148'\n"
   ]
  }
 ],
 "metadata": {
  "kernelspec": {
   "display_name": "Python 3",
   "language": "python",
   "name": "python3"
  },
  "language_info": {
   "codemirror_mode": {
    "name": "ipython",
    "version": 3
   },
   "file_extension": ".py",
   "mimetype": "text/x-python",
   "name": "python",
   "nbconvert_exporter": "python",
   "pygments_lexer": "ipython3",
   "version": "3.8.5"
  }
 },
 "nbformat": 4,
 "nbformat_minor": 2
}
