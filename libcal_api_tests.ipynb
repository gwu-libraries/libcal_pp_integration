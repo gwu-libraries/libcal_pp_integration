{
 "cells": [
  {
   "cell_type": "code",
   "execution_count": 1,
   "metadata": {},
   "outputs": [],
   "source": [
    "import requests\n",
    "import yaml"
   ]
  },
  {
   "cell_type": "markdown",
   "metadata": {},
   "source": [
    "### Testing the LibCal API's"
   ]
  },
  {
   "cell_type": "code",
   "execution_count": 2,
   "metadata": {},
   "outputs": [],
   "source": [
    "config_path = 'config.yml'\n",
    "with open(config_path, 'r') as f:\n",
    "    config = yaml.load(f, Loader=yaml.FullLoader)"
   ]
  },
  {
   "cell_type": "code",
   "execution_count": 3,
   "metadata": {},
   "outputs": [],
   "source": [
    "client_id = config['LibCal']['client_id']\n",
    "client_secret = config['LibCal']['client_secret']"
   ]
  },
  {
   "cell_type": "code",
   "execution_count": 4,
   "metadata": {},
   "outputs": [],
   "source": [
    "credentials_endpt = 'https://booking.library.gwu.edu/1.1/oauth/token'\n",
    "calendars_endpt = 'https://booking.library.gwu.edu/1.1/calendars'\n",
    "bookings_endpt = 'https://booking.library.gwu.edu/1.1/space/bookings'"
   ]
  },
  {
   "cell_type": "code",
   "execution_count": 5,
   "metadata": {},
   "outputs": [],
   "source": [
    "def create_cred_body(client_id: str, client_secret: str):\n",
    "    '''Creates the body of a POST request for obtaining an access token, given a client secret and credentials.'''\n",
    "    return {'client_id': client_id,\n",
    "           'client_secret': client_secret,\n",
    "           'grant_type': 'client_credentials'}"
   ]
  },
  {
   "cell_type": "code",
   "execution_count": 6,
   "metadata": {},
   "outputs": [],
   "source": [
    "def get_access_token(cred_body: dict):\n",
    "    '''Retrieves an access token from the LibCal API, given a request body as specified.'''\n",
    "    try:\n",
    "        resp = requests.post(credentials_endpt, json=cred_body)\n",
    "        resp.raise_for_status()\n",
    "        token_data = resp.json()\n",
    "        if 'error' in token_data:\n",
    "            raise Exception(token_data)\n",
    "            #return resp\n",
    "        return token_data\n",
    "    except Exception as e:\n",
    "        print(e)\n",
    "        raise"
   ]
  },
  {
   "cell_type": "code",
   "execution_count": 7,
   "metadata": {},
   "outputs": [],
   "source": [
    "cred_body = create_cred_body(client_id, client_secret)\n",
    "token_data = get_access_token(cred_body)"
   ]
  },
  {
   "cell_type": "code",
   "execution_count": 8,
   "metadata": {},
   "outputs": [],
   "source": [
    "def create_header(token_data: dict):\n",
    "    '''Creates an authorization header with the supplied token from the credentials API.'''\n",
    "    try:\n",
    "        token = token_data['access_token']\n",
    "        return {'Authorization': f'Bearer {token}'}\n",
    "    except KeyError:\n",
    "        print('Access token missing from token data.')\n",
    "        raise"
   ]
  },
  {
   "cell_type": "code",
   "execution_count": 9,
   "metadata": {},
   "outputs": [],
   "source": [
    "def get_calendars(header: dict):\n",
    "    '''Retrieves the calendars available in the system, for querying events from a specific calendar.\n",
    "    Header argument should contain the authorization token.'''\n",
    "    try:\n",
    "        resp = requests.get(calendars_endpt, headers=header)\n",
    "        resp.raise_for_status()\n",
    "        cal_data = resp.json()\n",
    "        if 'error' in cal_data:\n",
    "            raise Exception(cal_data)\n",
    "        return cal_data\n",
    "    except Exception as e:\n",
    "        print('Error getting calendars.')\n",
    "        raise\n",
    "    "
   ]
  },
  {
   "cell_type": "code",
   "execution_count": 10,
   "metadata": {},
   "outputs": [],
   "source": [
    "header = create_header(token_data)\n",
    "calendars = get_calendars(header)"
   ]
  },
  {
   "cell_type": "code",
   "execution_count": 11,
   "metadata": {},
   "outputs": [],
   "source": [
    "def create_booking_params(date: str = None):\n",
    "    '''Sets querystr parameters for the space/bookings endpoint. \n",
    "    Date should be in the format YYYY-MM-DD.'''\n",
    "    params = {'formAnswers': 1,\n",
    "             'limit': 100} # Max value\n",
    "    if date:\n",
    "        params['date'] = date\n",
    "    return params\n",
    "        "
   ]
  },
  {
   "cell_type": "code",
   "execution_count": 12,
   "metadata": {},
   "outputs": [],
   "source": [
    "def get_bookings(header: dict, booking_id: str = None, date: str = None):\n",
    "    '''Retrieves bookings from LibCal.'''\n",
    "    if booking_id:\n",
    "        url = f'{bookings_endpt}/{booking_id}'\n",
    "    else:\n",
    "        url = bookings_endpt\n",
    "    try:\n",
    "        params = create_booking_params(date)\n",
    "        resp = requests.get(url, headers=header, params=params)\n",
    "        resp.raise_for_status()\n",
    "        bookings_data = resp.json()\n",
    "        if 'error' in bookings_data:\n",
    "            raise Exception(bookings_data)\n",
    "        return bookings_data\n",
    "    except Exception as e:\n",
    "        print('Error getting bookings')\n",
    "        raise"
   ]
  },
  {
   "cell_type": "markdown",
   "metadata": {},
   "source": [
    "I think the `space/bookings` endpoint is the one to use for the room reservation system. Note that it seems possible to retrieve appointments only for one day at a time. By default, the date is today's date. Another date can be supplied as a querystring parameter."
   ]
  },
  {
   "cell_type": "code",
   "execution_count": 13,
   "metadata": {},
   "outputs": [],
   "source": [
    "bookings = get_bookings(header)"
   ]
  },
  {
   "cell_type": "markdown",
   "metadata": {},
   "source": [
    "We need to include a specific location in our query. This endpoint should return a list of locations from LibCal."
   ]
  },
  {
   "cell_type": "code",
   "execution_count": 16,
   "metadata": {},
   "outputs": [],
   "source": [
    "locations_endpt = 'https://booking.library.gwu.edu/1.1/space/locations'"
   ]
  },
  {
   "cell_type": "code",
   "execution_count": 17,
   "metadata": {},
   "outputs": [],
   "source": [
    "locations = requests.get(locations_endpt, headers=header)"
   ]
  },
  {
   "cell_type": "code",
   "execution_count": 18,
   "metadata": {},
   "outputs": [
    {
     "data": {
      "text/plain": [
       "[{'lid': 8827,\n",
       "  'name': 'Gelman Library Study Spaces',\n",
       "  'public': 1,\n",
       "  'formid': 4036},\n",
       " {'lid': 10138, 'name': 'Gelman Item Pick Up', 'public': 0},\n",
       " {'lid': 10332,\n",
       "  'name': 'Virginia Science & Technology Campus Library',\n",
       "  'public': 1},\n",
       " {'lid': 8836, 'name': 'Student Full-Semester Loaner Equipment', 'public': 1},\n",
       " {'lid': 8874, 'name': 'CREATE Digital Studio', 'public': 1}]"
      ]
     },
     "execution_count": 18,
     "metadata": {},
     "output_type": "execute_result"
    }
   ],
   "source": [
    "locations.json()"
   ]
  },
  {
   "cell_type": "markdown",
   "metadata": {},
   "source": [
    "### Testing the Alma API's\n",
    "Goal is to retrieve a user's barcode, given email from LibCal"
   ]
  },
  {
   "cell_type": "code",
   "execution_count": 19,
   "metadata": {},
   "outputs": [],
   "source": [
    "def query_users(user_email: str):\n",
    "    '''Queries the Alma Users API, given a user\\'s  email address.'''\n",
    "    params = {'q': f'email~{user_email}'}\n",
    "    apikey = config['Alma']['apikey']\n",
    "    headers = {'Authorization': f\"apikey {apikey}\",\n",
    "              'Accept': 'application/json'}\n",
    "    try:\n",
    "        resp = requests.get(config['Alma']['users_endpt'], headers=headers, params=params)\n",
    "        resp.raise_for_status() \n",
    "        user = resp.json()\n",
    "        return user['user'][0]['link']\n",
    "    except Exception as e:\n",
    "        print(f'Error fetching user for email {user_email}')\n",
    "        raise"
   ]
  },
  {
   "cell_type": "code",
   "execution_count": 20,
   "metadata": {},
   "outputs": [],
   "source": [
    "def fetch_user(link: str):\n",
    "    '''Given a link to a specific user via Alma\\'s API, get the full user record in order to see the barcode.'''\n",
    "    apikey = config['Alma']['apikey']\n",
    "    headers = {'Authorization': f\"apikey {apikey}\",\n",
    "              'Accept': 'application/json'}\n",
    "    try:\n",
    "        resp = requests.get(link, headers=headers)\n",
    "        resp.raise_for_status() \n",
    "        user = resp.json()\n",
    "        return user\n",
    "    except Exception as e:\n",
    "        print(f'Error fetching user for email {user_email}')\n",
    "        return resp\n",
    "        #raise"
   ]
  },
  {
   "cell_type": "code",
   "execution_count": 22,
   "metadata": {},
   "outputs": [],
   "source": [
    "link = query_users(email)\n",
    "user = fetch_user(link)"
   ]
  },
  {
   "cell_type": "code",
   "execution_count": 26,
   "metadata": {},
   "outputs": [],
   "source": [
    "# New field for GWID\n",
    "gwids = [b['q12505'] for b in bookings if 'q12505' in b]"
   ]
  },
  {
   "cell_type": "markdown",
   "metadata": {},
   "source": [
    "### Testing SQLite integration"
   ]
  },
  {
   "cell_type": "code",
   "execution_count": 54,
   "metadata": {},
   "outputs": [
    {
     "name": "stdout",
     "output_type": "stream",
     "text": [
      "The autoreload extension is already loaded. To reload it, use:\n",
      "  %reload_ext autoreload\n"
     ]
    }
   ],
   "source": [
    "%load_ext autoreload\n",
    "%autoreload 1"
   ]
  },
  {
   "cell_type": "code",
   "execution_count": 55,
   "metadata": {},
   "outputs": [],
   "source": [
    "%aimport sqlite_cache"
   ]
  },
  {
   "cell_type": "code",
   "execution_count": 106,
   "metadata": {},
   "outputs": [
    {
     "name": "stdout",
     "output_type": "stream",
     "text": [
      "Tables already exist. Skipping table creation.\n"
     ]
    }
   ],
   "source": [
    "sqlc = sqlite_cache.SQLiteCache()"
   ]
  },
  {
   "cell_type": "code",
   "execution_count": 92,
   "metadata": {},
   "outputs": [],
   "source": [
    "# Add dummy visitor ID for testing\n",
    "for i, _ in enumerate(users):\n",
    "    users[i].update({'visitor_id': i})\n",
    "    users[i]"
   ]
  },
  {
   "cell_type": "code",
   "execution_count": 101,
   "metadata": {},
   "outputs": [],
   "source": [
    "sqlc.add_users(users)"
   ]
  },
  {
   "cell_type": "code",
   "execution_count": 113,
   "metadata": {},
   "outputs": [],
   "source": [
    "sqlc.user_lookup('G15791109')"
   ]
  },
  {
   "cell_type": "code",
   "execution_count": 108,
   "metadata": {},
   "outputs": [],
   "source": [
    "sqlc.user_lookup('G15791109')"
   ]
  },
  {
   "cell_type": "code",
   "execution_count": 110,
   "metadata": {},
   "outputs": [],
   "source": [
    "for i, b in enumerate(bookings):\n",
    "    sqlc.add_appt({'appt_id': b['bookId'],\n",
    "                  'prereg_id': i})"
   ]
  },
  {
   "cell_type": "code",
   "execution_count": 112,
   "metadata": {},
   "outputs": [],
   "source": [
    "sqlc.appt_lookup('cs_JnMn5iv')"
   ]
  }
 ],
 "metadata": {
  "kernelspec": {
   "display_name": "Python 3",
   "language": "python",
   "name": "python3"
  },
  "language_info": {
   "codemirror_mode": {
    "name": "ipython",
    "version": 3
   },
   "file_extension": ".py",
   "mimetype": "text/x-python",
   "name": "python",
   "nbconvert_exporter": "python",
   "pygments_lexer": "ipython3",
   "version": "3.8.5"
  }
 },
 "nbformat": 4,
 "nbformat_minor": 2
}
