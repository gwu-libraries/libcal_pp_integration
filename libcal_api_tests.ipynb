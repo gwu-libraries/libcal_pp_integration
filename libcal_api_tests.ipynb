{
 "cells": [
  {
   "cell_type": "code",
   "execution_count": null,
   "metadata": {},
   "outputs": [],
   "source": [
    "import requests\n",
    "import sqlite3"
   ]
  },
  {
   "cell_type": "code",
   "execution_count": null,
   "metadata": {},
   "outputs": [],
   "source": [
    "client_id = '626'\n",
    "client_secret = '3fa520ce21bab7c1d81a15c9d0676e36'"
   ]
  },
  {
   "cell_type": "code",
   "execution_count": null,
   "metadata": {},
   "outputs": [],
   "source": [
    "credentials_endpt = 'https://booking.library.gwu.edu/1.1/oauth/token'\n",
    "calendars_endpt = 'https://booking.library.gwu.edu/1.1/calendars'\n",
    "bookings_endpt = 'https://booking.library.gwu.edu/1.1/space/bookings'"
   ]
  },
  {
   "cell_type": "code",
   "execution_count": null,
   "metadata": {},
   "outputs": [],
   "source": [
    "def create_cred_body(client_id: str, client_secret: str):\n",
    "    '''Creates the body of a POST request for obtaining an access token, given a client secret and credentials.'''\n",
    "    return {'client_id': client_id,\n",
    "           'client_secret': client_secret,\n",
    "           'grant_type': 'client_credentials'}"
   ]
  },
  {
   "cell_type": "code",
   "execution_count": null,
   "metadata": {},
   "outputs": [],
   "source": [
    "def get_access_token(cred_body: dict):\n",
    "    '''Retrieves an access token from the LibCal API, given a request body as specified.'''\n",
    "    try:\n",
    "        resp = requests.post(credentials_endpt, json=cred_body)\n",
    "        resp.raise_for_status()\n",
    "        token_data = resp.json()\n",
    "        if 'error' in token_data:\n",
    "            raise Exception(token_data)\n",
    "            #return resp\n",
    "        return token_data\n",
    "    except Exception as e:\n",
    "        print(e)\n",
    "        raise"
   ]
  },
  {
   "cell_type": "code",
   "execution_count": null,
   "metadata": {},
   "outputs": [],
   "source": [
    "cred_body = create_cred_body(client_id, client_secret)\n",
    "token_data = get_access_token(cred_body)"
   ]
  },
  {
   "cell_type": "code",
   "execution_count": null,
   "metadata": {},
   "outputs": [],
   "source": [
    "token_data"
   ]
  },
  {
   "cell_type": "code",
   "execution_count": null,
   "metadata": {},
   "outputs": [],
   "source": [
    "def create_header(token_data: dict):\n",
    "    '''Creates an authorization header with the supplied token from the credentials API.'''\n",
    "    try:\n",
    "        token = token_data['access_token']\n",
    "        return {'Authorization': f'Bearer {token}'}\n",
    "    except KeyError:\n",
    "        print('Access token missing from token data.')\n",
    "        raise"
   ]
  },
  {
   "cell_type": "code",
   "execution_count": null,
   "metadata": {},
   "outputs": [],
   "source": [
    "def get_calendars(header: dict):\n",
    "    '''Retrieves the calendars available in the system, for querying events from a specific calendar.\n",
    "    Header argument should contain the authorization token.'''\n",
    "    try:\n",
    "        resp = requests.get(calendars_endpt, headers=header)\n",
    "        resp.raise_for_status()\n",
    "        cal_data = resp.json()\n",
    "        if 'error' in cal_data:\n",
    "            raise Exception(cal_data)\n",
    "        return cal_data\n",
    "    except Exception as e:\n",
    "        print('Error getting calendars.')\n",
    "        raise\n",
    "    "
   ]
  },
  {
   "cell_type": "code",
   "execution_count": null,
   "metadata": {},
   "outputs": [],
   "source": [
    "header = create_header(token_data)\n",
    "calendars = get_calendars(header)"
   ]
  },
  {
   "cell_type": "code",
   "execution_count": null,
   "metadata": {},
   "outputs": [],
   "source": [
    "def create_booking_params(date: str = None):\n",
    "    '''Sets querystr parameters for the space/bookings endpoint. \n",
    "    Date should be in the format YYYY-MM-DD.'''\n",
    "    params = {'formAnswers': 1,\n",
    "             'limit': 100} # Max value\n",
    "    if date:\n",
    "        params['date'] = date\n",
    "    return params\n",
    "        "
   ]
  },
  {
   "cell_type": "code",
   "execution_count": null,
   "metadata": {},
   "outputs": [],
   "source": [
    "def get_bookings(header: dict, booking_id: str = None, date: str = None):\n",
    "    '''Retrieves bookings from LibCal.'''\n",
    "    if booking_id:\n",
    "        url = f'{bookings_endpt}/{booking_id}'\n",
    "    else:\n",
    "        url = bookings_endpt\n",
    "    try:\n",
    "        params = create_booking_params(date)\n",
    "        resp = requests.get(url, headers=header, params=params)\n",
    "        resp.raise_for_status()\n",
    "        bookings_data = resp.json()\n",
    "        if 'error' in bookings_data:\n",
    "            raise Exception(bookings_data)\n",
    "        return bookings_data\n",
    "    except Exception as e:\n",
    "        print('Error getting bookings')\n",
    "        raise"
   ]
  },
  {
   "cell_type": "markdown",
   "metadata": {},
   "source": [
    "I think the `space/bookings` endpoint is the one to use for the room reservation system. Note that it seems possible to retrieve appointments only for one day at a time. By default, the date is today's date. Another date can be supplied as a querystring parameter."
   ]
  },
  {
   "cell_type": "code",
   "execution_count": null,
   "metadata": {},
   "outputs": [],
   "source": [
    "get_bookings(header)"
   ]
  },
  {
   "cell_type": "code",
   "execution_count": null,
   "metadata": {},
   "outputs": [],
   "source": [
    "get_bookings(header, date='2020-08-11')"
   ]
  }
 ],
 "metadata": {
  "kernelspec": {
   "display_name": "Python 3",
   "language": "python",
   "name": "python3"
  },
  "language_info": {
   "codemirror_mode": {
    "name": "ipython",
    "version": 3
   },
   "file_extension": ".py",
   "mimetype": "text/x-python",
   "name": "python",
   "nbconvert_exporter": "python",
   "pygments_lexer": "ipython3",
   "version": "3.7.3"
  }
 },
 "nbformat": 4,
 "nbformat_minor": 2
}
